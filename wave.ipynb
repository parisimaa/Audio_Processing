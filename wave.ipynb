{
  "nbformat": 4,
  "nbformat_minor": 0,
  "metadata": {
    "colab": {
      "provenance": []
    },
    "kernelspec": {
      "name": "python3",
      "display_name": "Python 3"
    },
    "language_info": {
      "name": "python"
    }
  },
  "cells": [
    {
      "cell_type": "code",
      "execution_count": 2,
      "metadata": {
        "id": "RUb6DTrNyk65"
      },
      "outputs": [],
      "source": [
        "import wave"
      ]
    },
    {
      "cell_type": "code",
      "source": [
        "wf = wave.open('cat01.wav')"
      ],
      "metadata": {
        "id": "aSyWhqE3y0MN"
      },
      "execution_count": 3,
      "outputs": []
    },
    {
      "cell_type": "code",
      "source": [
        "# Finding number of channels\n",
        "wf.getnchannels()"
      ],
      "metadata": {
        "colab": {
          "base_uri": "https://localhost:8080/"
        },
        "id": "ziJmjKOdZ0kf",
        "outputId": "3136968f-550f-4f57-ea24-436255aed09d"
      },
      "execution_count": 4,
      "outputs": [
        {
          "output_type": "execute_result",
          "data": {
            "text/plain": [
              "1"
            ]
          },
          "metadata": {},
          "execution_count": 4
        }
      ]
    },
    {
      "cell_type": "code",
      "source": [
        "# Frame rate (number of frames per sedcond)\n",
        "wf.getframerate()"
      ],
      "metadata": {
        "colab": {
          "base_uri": "https://localhost:8080/"
        },
        "id": "di4hwS8saI-E",
        "outputId": "149e53de-0dd3-455b-abec-da0e69cb58d4"
      },
      "execution_count": 6,
      "outputs": [
        {
          "output_type": "execute_result",
          "data": {
            "text/plain": [
              "8000"
            ]
          },
          "metadata": {},
          "execution_count": 6
        }
      ]
    },
    {
      "cell_type": "markdown",
      "source": [
        "Sampling rate and frame rate in PyAudio are different. For single channel this is same but in general, for stereo signal (more than one channel) one frame consist of two samples, left and rigth.\n",
        "Frame is a set of signal values, one for each channel, one frame per time instant.\n",
        "NO. sample per sec = No. frame per sec X No. channels "
      ],
      "metadata": {
        "id": "42gwYR7ycOIw"
      }
    },
    {
      "cell_type": "code",
      "source": [
        "# Total number of frames (length of signal)\n",
        "wf.getnframes()"
      ],
      "metadata": {
        "colab": {
          "base_uri": "https://localhost:8080/"
        },
        "id": "DrKKYku0al7I",
        "outputId": "fdc263ee-d7a1-4c4d-d3c3-c72f224a5f8f"
      },
      "execution_count": 7,
      "outputs": [
        {
          "output_type": "execute_result",
          "data": {
            "text/plain": [
              "6134"
            ]
          },
          "metadata": {},
          "execution_count": 7
        }
      ]
    },
    {
      "cell_type": "code",
      "source": [
        "# Number of bytes per sample\n",
        "wf.getsampwidth()"
      ],
      "metadata": {
        "colab": {
          "base_uri": "https://localhost:8080/"
        },
        "id": "RBaQ07hzdisp",
        "outputId": "45504c7f-2123-4a65-b911-c8d64a741bdd"
      },
      "execution_count": 8,
      "outputs": [
        {
          "output_type": "execute_result",
          "data": {
            "text/plain": [
              "2"
            ]
          },
          "metadata": {},
          "execution_count": 8
        }
      ]
    },
    {
      "cell_type": "code",
      "source": [
        "wf.close()"
      ],
      "metadata": {
        "id": "R4z-UAMKdvJe"
      },
      "execution_count": 9,
      "outputs": []
    },
    {
      "cell_type": "markdown",
      "source": [
        "Writing a wave file in Python"
      ],
      "metadata": {
        "id": "e2VPeY1teUoS"
      }
    },
    {
      "cell_type": "code",
      "source": [
        "from struct import pack\n",
        "from math import sin, pi\n",
        "import wave\n",
        "\n",
        "Fs = 8000\n",
        "\n",
        "# Write a mono wave file\n",
        "\n",
        "wf = wave.open('sin_01_mono.wav','w')\n",
        "wf.setnchannels(1)  # one channel (mono)\n",
        "wf.setsampwidth(2)  # two bytes per sample (16 bits per sample)\n",
        "wf.setframerate(Fs) # samples per second\n",
        "\n",
        "A = 2**15 - 1.0  # amplitude\n",
        "f = 220.0        # frequency in Hz (note A3)\n",
        "N = int(0.5*Fs)  # half-second in samples\n",
        "\n",
        "for n in range(0, N):\t    # half-second loop \n",
        "\tx = A * sin(2*pi*f/Fs*n)       \t# signal value (float)\n",
        "\tbyte_string = pack('h', int(x))   \n",
        "\t# 'h' stands for 'short integer' (16 bits)\n",
        "\twf.writeframes(byte_string)\n",
        "wf.close()"
      ],
      "metadata": {
        "colab": {
          "base_uri": "https://localhost:8080/"
        },
        "id": "j_xYJiwWeS9C",
        "outputId": "9763188a-600f-43ff-e166-3b8e2e370675"
      },
      "execution_count": 12,
      "outputs": [
        {
          "output_type": "stream",
          "name": "stderr",
          "text": [
            "Exception ignored in: <function Wave_write.__del__ at 0x7f35fb637ca0>\n",
            "Traceback (most recent call last):\n",
            "  File \"/usr/lib/python3.8/wave.py\", line 327, in __del__\n",
            "  File \"/usr/lib/python3.8/wave.py\", line 445, in close\n",
            "  File \"/usr/lib/python3.8/wave.py\", line 465, in _ensure_header_written\n",
            "wave.Error: sample width not specified\n"
          ]
        }
      ]
    },
    {
      "cell_type": "markdown",
      "source": [
        "There should be consistency between wf.setsampwidth value and byte_string = pack('h', int(x)). Otherwise error may occur. "
      ],
      "metadata": {
        "id": "dpcSjtLGkGpW"
      }
    },
    {
      "cell_type": "markdown",
      "source": [
        "If plot FFT of this function in MATLAB we can see pikes happen around 220 Hz which is compatiple with what we defined. "
      ],
      "metadata": {
        "id": "xbk-A0aXmBuc"
      }
    },
    {
      "cell_type": "code",
      "source": [
        "# Verson 1 - Stereo \n",
        "from struct import pack\n",
        "from math import sin, pi\n",
        "import wave\n",
        "\n",
        "Fs = 8000\n",
        "\n",
        "# Write a stereo wave file\n",
        "\n",
        "wf = wave.open('sin_01_stereo.wav', 'w')\n",
        "wf.setnchannels(2)\t\t\t# two channels (stereo)\n",
        "wf.setsampwidth(2)\t\t\t# two bytes per sample (16 bits per sample)\n",
        "wf.setframerate(Fs)\t\t\t# samples per second\n",
        "A = 2**15 - 1.0 \t\t\t# amplitude\n",
        "f1 = 261.6\t\t\t\t\t# frequency in Hz (middle C)\n",
        "f2 = 440.0  \t\t\t\t# note A4\n",
        "N = int(0.5*Fs)\t\t\t\t# half-second in samples\n",
        "\n",
        "for n in range(0, N):\t\t# half-second loop \n",
        "\n",
        "\t# left channel\n",
        "\tx = A * sin(2*pi*f1/Fs*n)\n",
        "\tbyte_string = pack('h', int(x))\n",
        "\t# 'h' stands for 'short integer' (16 bits)\n",
        "\twf.writeframes(byte_string)\n",
        "\n",
        "\t# right channel\n",
        "\tx = A * sin(2*pi*f2/Fs*n)\n",
        "\tbyte_string = pack('h', int(x))  # concatenation\n",
        "\twf.writeframes(byte_string)\n",
        "\n",
        "wf.close()"
      ],
      "metadata": {
        "id": "xx0dgsqrnrFB"
      },
      "execution_count": 16,
      "outputs": []
    },
    {
      "cell_type": "code",
      "source": [
        "# Verson 2 - Stereo \n",
        "from struct import pack\n",
        "from math import sin, pi\n",
        "import wave\n",
        "\n",
        "Fs = 8000\n",
        "\n",
        "# Write a stereo wave file\n",
        "\n",
        "wf = wave.open('sin_01_stereo_ver2.wav', 'w')\n",
        "wf.setnchannels(2)\t\t\t# two channels (stereo)\n",
        "wf.setsampwidth(2)\t\t\t# two bytes per sample (16 bits per sample)\n",
        "wf.setframerate(Fs)\t\t\t# samples per second\n",
        "A = 2**15 - 1.0 \t\t\t# amplitude\n",
        "# f1 and f2 are left and rigth channels\n",
        "f1 = 261.6\t\t\t\t\t# frequency in Hz (middle C)\n",
        "f2 = 440.0  \t\t\t\t# note A4\n",
        "N = int(0.5*Fs)\t\t\t\t# half-second in samples\n",
        "\n",
        "for n in range(0, N):\t\t# half-second loop \n",
        "\n",
        "\t# left channel\n",
        "\tx = A * sin(2*pi*f1/Fs*n)\n",
        "\tbyte_string_1 = pack('h', int(x))\n",
        "\t# 'h' stands for 'short integer' (16 bits)\n",
        "\n",
        "\t# right channel\n",
        "\tx = A * sin(2*pi*f2/Fs*n)\n",
        "\tbyte_string_2 = pack('h', int(x))\n",
        "\n",
        "\t# concatenation\n",
        "\tbyte_string = byte_string_1 + byte_string_2\n",
        "\twf.writeframes(byte_string)\n",
        "\n",
        "wf.close()"
      ],
      "metadata": {
        "id": "WJu9hVvymqI6"
      },
      "execution_count": 15,
      "outputs": []
    }
  ]
}
