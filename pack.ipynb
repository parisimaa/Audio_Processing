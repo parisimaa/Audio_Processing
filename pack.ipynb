{
  "nbformat": 4,
  "nbformat_minor": 0,
  "metadata": {
    "colab": {
      "provenance": []
    },
    "kernelspec": {
      "name": "python3",
      "display_name": "Python 3"
    },
    "language_info": {
      "name": "python"
    }
  },
  "cells": [
    {
      "cell_type": "markdown",
      "source": [
        "Pack function: allows us to convert numbers into binary strings or bit data which is useful for Audio Processing especially when we are using PyAudio.\n",
        "In order to write signal values and audio output device we need to convert it to byte. https://docs.python.org/3/library/struct.html"
      ],
      "metadata": {
        "id": "G88QIp5h5lWC"
      }
    },
    {
      "cell_type": "code",
      "execution_count": 1,
      "metadata": {
        "id": "WVpMlCdf5fb4"
      },
      "outputs": [],
      "source": [
        "from struct import pack"
      ]
    },
    {
      "cell_type": "code",
      "source": [
        "# converting a number to binary\n",
        "pack('B',0)\n",
        "# \\x shows that this binary is in hexa decimal format\n",
        "# capital B indicates 1 byte or 8 bits"
      ],
      "metadata": {
        "colab": {
          "base_uri": "https://localhost:8080/"
        },
        "id": "-EHqhbQ56pB-",
        "outputId": "65afa028-0f21-4a38-839f-82024a65e2ad"
      },
      "execution_count": 9,
      "outputs": [
        {
          "output_type": "execute_result",
          "data": {
            "text/plain": [
              "b'\\x00'"
            ]
          },
          "metadata": {},
          "execution_count": 9
        }
      ]
    },
    {
      "cell_type": "code",
      "source": [
        "pack('B',1)"
      ],
      "metadata": {
        "colab": {
          "base_uri": "https://localhost:8080/"
        },
        "id": "7tSf5hEh9C8k",
        "outputId": "28a837bf-a5d5-4e33-e9be-6eb0a3d723c3"
      },
      "execution_count": 6,
      "outputs": [
        {
          "output_type": "execute_result",
          "data": {
            "text/plain": [
              "b'\\x01'"
            ]
          },
          "metadata": {},
          "execution_count": 6
        }
      ]
    },
    {
      "cell_type": "code",
      "source": [
        "pack('B',255)\n",
        "# numbers should be an integer between 0 and 255"
      ],
      "metadata": {
        "colab": {
          "base_uri": "https://localhost:8080/"
        },
        "id": "IVibByLN9FEw",
        "outputId": "3cf214eb-1e38-4f0b-ba0b-7bd305f81202"
      },
      "execution_count": 10,
      "outputs": [
        {
          "output_type": "execute_result",
          "data": {
            "text/plain": [
              "b'\\xff'"
            ]
          },
          "metadata": {},
          "execution_count": 10
        }
      ]
    },
    {
      "cell_type": "code",
      "source": [
        "pack('B',10)\n",
        "# In ASCI format in Line Feed "
      ],
      "metadata": {
        "colab": {
          "base_uri": "https://localhost:8080/"
        },
        "id": "tigxaJo_-Gnb",
        "outputId": "7826c6e9-21aa-40c9-e683-ca0ed0ba4216"
      },
      "execution_count": 11,
      "outputs": [
        {
          "output_type": "execute_result",
          "data": {
            "text/plain": [
              "b'\\n'"
            ]
          },
          "metadata": {},
          "execution_count": 11
        }
      ]
    },
    {
      "cell_type": "code",
      "source": [
        "for i in range(0,40):\n",
        "  print(pack('B',i))"
      ],
      "metadata": {
        "colab": {
          "base_uri": "https://localhost:8080/"
        },
        "id": "xnfAobzy-eLY",
        "outputId": "7fce085d-30c1-4933-be37-3f95edc18d17"
      },
      "execution_count": 14,
      "outputs": [
        {
          "output_type": "stream",
          "name": "stdout",
          "text": [
            "b'\\x00'\n",
            "b'\\x01'\n",
            "b'\\x02'\n",
            "b'\\x03'\n",
            "b'\\x04'\n",
            "b'\\x05'\n",
            "b'\\x06'\n",
            "b'\\x07'\n",
            "b'\\x08'\n",
            "b'\\t'\n",
            "b'\\n'\n",
            "b'\\x0b'\n",
            "b'\\x0c'\n",
            "b'\\r'\n",
            "b'\\x0e'\n",
            "b'\\x0f'\n",
            "b'\\x10'\n",
            "b'\\x11'\n",
            "b'\\x12'\n",
            "b'\\x13'\n",
            "b'\\x14'\n",
            "b'\\x15'\n",
            "b'\\x16'\n",
            "b'\\x17'\n",
            "b'\\x18'\n",
            "b'\\x19'\n",
            "b'\\x1a'\n",
            "b'\\x1b'\n",
            "b'\\x1c'\n",
            "b'\\x1d'\n",
            "b'\\x1e'\n",
            "b'\\x1f'\n",
            "b' '\n",
            "b'!'\n",
            "b'\"'\n",
            "b'#'\n",
            "b'$'\n",
            "b'%'\n",
            "b'&'\n",
            "b\"'\"\n"
          ]
        }
      ]
    },
    {
      "cell_type": "code",
      "source": [
        "# creating a file and writing into it\n",
        "f = open('file-01','wb')\n",
        "s = pack('B',4)\n",
        "print(s)\n",
        "# how many bit is written to the file\n",
        "check = f.write(s)"
      ],
      "metadata": {
        "colab": {
          "base_uri": "https://localhost:8080/"
        },
        "id": "AOkFYywiBU3w",
        "outputId": "cf34635a-2f90-4cdc-dfc0-29b399cd0555"
      },
      "execution_count": 16,
      "outputs": [
        {
          "output_type": "stream",
          "name": "stdout",
          "text": [
            "b'\\x04'\n"
          ]
        }
      ]
    },
    {
      "cell_type": "code",
      "source": [
        "f = open('file-02','wb')\n",
        "f.write(pack('B',15))\n",
        "f.write(pack('B',32))"
      ],
      "metadata": {
        "colab": {
          "base_uri": "https://localhost:8080/"
        },
        "id": "Sz0jr0XQCh6A",
        "outputId": "7a6fe476-941d-4ba4-f915-ff3ccd3ed6db"
      },
      "execution_count": 17,
      "outputs": [
        {
          "output_type": "execute_result",
          "data": {
            "text/plain": [
              "1"
            ]
          },
          "metadata": {},
          "execution_count": 17
        }
      ]
    },
    {
      "cell_type": "code",
      "source": [
        "f = open('file-03','wb')\n",
        "for i in range(0,255):\n",
        "  f.write(pack('B',i))"
      ],
      "metadata": {
        "id": "J4u0g8prDFHo"
      },
      "execution_count": 18,
      "outputs": []
    },
    {
      "cell_type": "code",
      "source": [
        "pack('BB',6,8)"
      ],
      "metadata": {
        "colab": {
          "base_uri": "https://localhost:8080/"
        },
        "id": "6Y3lNcn5Df59",
        "outputId": "c98664cb-8091-467a-b937-7a228a378fd3"
      },
      "execution_count": 20,
      "outputs": [
        {
          "output_type": "execute_result",
          "data": {
            "text/plain": [
              "b'\\x06\\x08'"
            ]
          },
          "metadata": {},
          "execution_count": 20
        }
      ]
    },
    {
      "cell_type": "code",
      "source": [
        "# h stands for two bytes\n",
        "# represents both negative and positive numbers\n",
        "# and the maximum number is 32767\n",
        "pack('h',1)\n",
        "# there is a table of different formats in the documentation"
      ],
      "metadata": {
        "colab": {
          "base_uri": "https://localhost:8080/"
        },
        "id": "w_Pp7N2FDumK",
        "outputId": "db20ce63-1bb0-4740-c320-282905914dbe"
      },
      "execution_count": 24,
      "outputs": [
        {
          "output_type": "execute_result",
          "data": {
            "text/plain": [
              "b'\\x01\\x00'"
            ]
          },
          "metadata": {},
          "execution_count": 24
        }
      ]
    }
  ]
}
