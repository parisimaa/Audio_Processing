{
  "nbformat": 4,
  "nbformat_minor": 0,
  "metadata": {
    "colab": {
      "provenance": []
    },
    "kernelspec": {
      "name": "python3",
      "display_name": "Python 3"
    },
    "language_info": {
      "name": "python"
    }
  },
  "cells": [
    {
      "cell_type": "code",
      "execution_count": 20,
      "metadata": {
        "id": "XUyI7hquqOAw"
      },
      "outputs": [],
      "source": [
        "from struct import pack\n",
        "from math import sin, pi\n",
        "import wave\n",
        "\n",
        "Fs = 8000\n",
        "\n",
        "# Write a stereo wave file\n",
        "\n",
        "wf = wave.open('sin_01_Multi.wav', 'w')\n",
        "wf.setnchannels(3)\t\t\t# two channels (stereo)\n",
        "wf.setsampwidth(2)\t\t\t# two bytes per sample (16 bits per sample)\n",
        "wf.setframerate(Fs)\t\t\t# samples per second\n",
        "A = 2**15 - 1.0 \t\t\t# amplitude\n",
        "f1 = 261.6\t\t\t\t\t# frequency in Hz (middle C)\n",
        "f2 = 440.0  \t\t\t\t# note A4\n",
        "f3 = 523.3\n",
        "N = int(0.5*Fs)\t\t\t\t# half-second in samples\n",
        "\n",
        "for n in range(0, N):\t\t# half-second loop \n",
        "\n",
        "\t# left channel\n",
        "\tx = A * sin(2*pi*f1/Fs*n)\n",
        "\tbyte_string = pack('h', int(x))\n",
        "\t# 'h' stands for 'short integer' (16 bits)\n",
        "\twf.writeframes(byte_string)\n",
        "\n",
        "\t# right channel\n",
        "\tx = A * sin(2*pi*f2/Fs*n)\n",
        "\tbyte_string = pack('h', int(x))  # concatenation\n",
        "\twf.writeframes(byte_string)\n",
        "\n",
        "\t# third channel\n",
        "\tx = A * sin(2*pi*f3/Fs*n)\n",
        "\tbyte_string = pack('h', int(x)) \n",
        "\twf.writeframes(byte_string) \n",
        "\n",
        "wf.close()\n"
      ]
    },
    {
      "cell_type": "code",
      "source": [
        "test = wave.open('sin_01_Multi.wav')\n",
        "test.getnchannels()"
      ],
      "metadata": {
        "colab": {
          "base_uri": "https://localhost:8080/"
        },
        "id": "m7tVRrpI4mNr",
        "outputId": "6b7c4e81-cbca-4413-83bc-ee578bbb6013"
      },
      "execution_count": 21,
      "outputs": [
        {
          "output_type": "execute_result",
          "data": {
            "text/plain": [
              "3"
            ]
          },
          "metadata": {},
          "execution_count": 21
        }
      ]
    }
  ]
}