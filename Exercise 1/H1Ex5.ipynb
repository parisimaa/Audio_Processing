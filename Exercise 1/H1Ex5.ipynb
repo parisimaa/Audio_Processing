{
  "nbformat": 4,
  "nbformat_minor": 0,
  "metadata": {
    "colab": {
      "provenance": []
    },
    "kernelspec": {
      "name": "python3",
      "display_name": "Python 3"
    },
    "language_info": {
      "name": "python"
    }
  },
  "cells": [
    {
      "cell_type": "code",
      "execution_count": 12,
      "metadata": {
        "id": "wULdEw60JpuY"
      },
      "outputs": [],
      "source": [
        "from struct import pack\n",
        "from math import sin, pi\n",
        "import wave\n",
        "\n",
        "Fs = 8000\n",
        "\n",
        "# Write a mono wave file\n",
        "\n",
        "wf = wave.open('sin.wav','w')\n",
        "wf.setnchannels(1)  # one channel (mono)\n",
        "wf.setsampwidth(1)  # one byte per sample (8 bits per sample)\n",
        "wf.setframerate(Fs) # samples per second\n",
        "\n",
        "A = 2**7 - 1.0  # amplitude\n",
        "f = 261.6        # frequency in Hz (note A3)\n",
        "N = int(0.5*Fs)  # half-second in samples\n",
        "\n",
        "for n in range(0, N):\t    # half-second loop \n",
        "\tx = A * sin(2*pi*f/Fs*n)       \t# signal value (float)\n",
        "\tbyte_string = pack('B', int(x+128))   \n",
        "\t# 'h' stands for 'short integer' (16 bits)\n",
        "\twf.writeframes(byte_string)\n",
        "wf.close()\n",
        "     "
      ]
    },
    {
      "cell_type": "markdown",
      "source": [
        "If we want a sin signal with 8-bits per sample we need to change binary string type from 'h' to 'B' to be compatible with signal. On the other hand, values should be within the range of 0 to 128 in this format and we need to adjust amplitude accordingly as well. In addition, to have unsigned 8 bits we change the range by adding 128 to the x in pack function. "
      ],
      "metadata": {
        "id": "hEqnKa-kaVnV"
      }
    }
  ]
}