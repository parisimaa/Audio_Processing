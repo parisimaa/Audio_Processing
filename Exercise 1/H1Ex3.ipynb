{
  "nbformat": 4,
  "nbformat_minor": 0,
  "metadata": {
    "colab": {
      "provenance": []
    },
    "kernelspec": {
      "name": "python3",
      "display_name": "Python 3"
    },
    "language_info": {
      "name": "python"
    }
  },
  "cells": [
    {
      "cell_type": "markdown",
      "source": [
        "Q3: Record wav files of your voice with identical settings, but use 8-bit and 32-bit formats. For these files, what values are returned by getsampwidth()?"
      ],
      "metadata": {
        "id": "CNbwDnsCYqzm"
      }
    },
    {
      "cell_type": "code",
      "execution_count": 1,
      "metadata": {
        "id": "VdYRx8tPYfvW"
      },
      "outputs": [],
      "source": [
        "import wave"
      ]
    },
    {
      "cell_type": "code",
      "source": [
        "# Audio with 8-bits format\n",
        "wf_1 = wave.open('S8.wav')"
      ],
      "metadata": {
        "id": "r44CshRAYz2G"
      },
      "execution_count": 4,
      "outputs": []
    },
    {
      "cell_type": "code",
      "source": [
        "# Audio with 32-bits format\n",
        "wf_2 = wave.open('S32.wav')"
      ],
      "metadata": {
        "id": "IhP94PpQZUtr"
      },
      "execution_count": 6,
      "outputs": []
    },
    {
      "cell_type": "code",
      "source": [
        "wf_1.getsampwidth()"
      ],
      "metadata": {
        "colab": {
          "base_uri": "https://localhost:8080/"
        },
        "id": "ySm2M2RwYxFk",
        "outputId": "d0712543-7dff-4270-c8e0-1984807d31fe"
      },
      "execution_count": 5,
      "outputs": [
        {
          "output_type": "execute_result",
          "data": {
            "text/plain": [
              "2"
            ]
          },
          "metadata": {},
          "execution_count": 5
        }
      ]
    },
    {
      "cell_type": "code",
      "source": [
        "wf_2.getsampwidth()"
      ],
      "metadata": {
        "colab": {
          "base_uri": "https://localhost:8080/"
        },
        "id": "BQ5P3l0WZT4M",
        "outputId": "943d86ca-b55d-4e8d-dd51-4df129599a40"
      },
      "execution_count": 7,
      "outputs": [
        {
          "output_type": "execute_result",
          "data": {
            "text/plain": [
              "4"
            ]
          },
          "metadata": {},
          "execution_count": 7
        }
      ]
    }
  ]
}