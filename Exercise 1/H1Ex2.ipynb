{
  "nbformat": 4,
  "nbformat_minor": 0,
  "metadata": {
    "colab": {
      "provenance": []
    },
    "kernelspec": {
      "name": "python3",
      "display_name": "Python 3"
    },
    "language_info": {
      "name": "python"
    }
  },
  "cells": [
    {
      "cell_type": "markdown",
      "source": [
        "Parisima Abdali, pa2297 <br>\n",
        "**I wrote a MATLAB code to generate MyAudio.wav file** <br>\n",
        "Q2: Write a Python script using the wav module to \n",
        "read and print basic information about your wav file."
      ],
      "metadata": {
        "id": "ASW8mtxAQ2ND"
      }
    },
    {
      "cell_type": "code",
      "execution_count": 1,
      "metadata": {
        "id": "4j_2ZFDnLD9N"
      },
      "outputs": [],
      "source": [
        "import wave"
      ]
    },
    {
      "cell_type": "code",
      "source": [
        "wf = wave.open('MyAudio.wav')"
      ],
      "metadata": {
        "id": "6_aaDwm8QHBM"
      },
      "execution_count": 2,
      "outputs": []
    },
    {
      "cell_type": "code",
      "source": [
        "# number of channels\n",
        "wf.getnchannels() \t"
      ],
      "metadata": {
        "colab": {
          "base_uri": "https://localhost:8080/"
        },
        "id": "4K2A5i9-QPwL",
        "outputId": "3ed00359-f91f-4480-b4af-af602895e6cf"
      },
      "execution_count": 3,
      "outputs": [
        {
          "output_type": "execute_result",
          "data": {
            "text/plain": [
              "1"
            ]
          },
          "metadata": {},
          "execution_count": 3
        }
      ]
    },
    {
      "cell_type": "code",
      "source": [
        "# frame rate (number of frames per second)\n",
        "wf.getframerate() \t"
      ],
      "metadata": {
        "colab": {
          "base_uri": "https://localhost:8080/"
        },
        "id": "M4XBQzBcQfga",
        "outputId": "03fd2fd1-9b22-4b73-df6b-8179520f42ec"
      },
      "execution_count": 4,
      "outputs": [
        {
          "output_type": "execute_result",
          "data": {
            "text/plain": [
              "16000"
            ]
          },
          "metadata": {},
          "execution_count": 4
        }
      ]
    },
    {
      "cell_type": "code",
      "source": [
        "# total number of frames (length of signal)\n",
        "wf.getnframes() \t"
      ],
      "metadata": {
        "colab": {
          "base_uri": "https://localhost:8080/"
        },
        "id": "sRcCpNNUQiDE",
        "outputId": "86c215de-ad4b-4d63-a870-e41baab8a02f"
      },
      "execution_count": 5,
      "outputs": [
        {
          "output_type": "execute_result",
          "data": {
            "text/plain": [
              "16000"
            ]
          },
          "metadata": {},
          "execution_count": 5
        }
      ]
    },
    {
      "cell_type": "code",
      "source": [
        "# number of bytes per sample\n",
        "wf.getsampwidth() \t"
      ],
      "metadata": {
        "colab": {
          "base_uri": "https://localhost:8080/"
        },
        "id": "NsDRqjgrQkjE",
        "outputId": "5d0b652e-843b-4495-cc94-c7d9c5d5df70"
      },
      "execution_count": 6,
      "outputs": [
        {
          "output_type": "execute_result",
          "data": {
            "text/plain": [
              "2"
            ]
          },
          "metadata": {},
          "execution_count": 6
        }
      ]
    },
    {
      "cell_type": "markdown",
      "source": [
        "All the results above indicate, a signal with one channel (mono), a sampling rate of 16 kHz and 16-bits per sample. <br>\n",
        "Also the value of width is 2 which means 2 bytes per sample or 16-bits per sample."
      ],
      "metadata": {
        "id": "pUBlB2IlSWZY"
      }
    }
  ]
}